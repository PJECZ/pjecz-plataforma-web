{
 "cells": [
  {
   "cell_type": "markdown",
   "source": [
    "# V.P. de Sentencias\n",
    "\n",
    "Reporte de Sentencias."
   ],
   "metadata": {}
  },
  {
   "cell_type": "code",
   "execution_count": null,
   "source": [
    "from datetime import datetime\n",
    "\n",
    "# Pandas, matplotlib, seaborn\n",
    "import pandas as pd\n",
    "from matplotlib import pyplot as plt\n",
    "import seaborn as sns\n",
    "%matplotlib inline\n",
    "plt.rcParams['figure.figsize'] = 12,4\n",
    "import warnings\n",
    "warnings.filterwarnings('ignore')\n",
    "\n",
    "# SQLAlchemy\n",
    "from plataforma_web.app import create_app\n",
    "from plataforma_web.extensions import db\n",
    "app = create_app()\n",
    "db.app = app\n",
    "\n",
    "# Plataforma Web\n",
    "from plataforma_web.blueprints.distritos.models import Distrito\n",
    "from plataforma_web.blueprints.autoridades.models import Autoridad\n",
    "from plataforma_web.blueprints.sentencias.models import Sentencia"
   ],
   "outputs": [],
   "metadata": {}
  },
  {
   "cell_type": "code",
   "execution_count": null,
   "source": [
    "# Distritos Judiciales\n",
    "distritos_select = db.session.query(Distrito.id, Distrito.nombre).\\\n",
    "    filter(Distrito.es_distrito_judicial == True).\\\n",
    "    filter(Distrito.estatus == \"A\").statement\n",
    "distritos = pd.read_sql_query(sql=distritos_select, con=db.engine)\n",
    "distritos.head(8)"
   ],
   "outputs": [],
   "metadata": {}
  },
  {
   "cell_type": "code",
   "execution_count": null,
   "source": [
    "# Distrito Judicial a estudiar\n",
    "distrito = Distrito.query.get(8)  # 6: Saltillo, 8: Torreon\n",
    "print(distrito.id, distrito.nombre)"
   ],
   "outputs": [],
   "metadata": {}
  },
  {
   "cell_type": "code",
   "execution_count": null,
   "source": [
    "# Juzgados\n",
    "autoridades_select = db.session.query(Autoridad.id, Autoridad.clave, Autoridad.descripcion).\\\n",
    "    filter(Autoridad.distrito_id == distrito.id).\\\n",
    "    filter(Autoridad.es_jurisdiccional == True).\\\n",
    "    filter(Autoridad.es_notaria == False).\\\n",
    "    filter(Autoridad.estatus == \"A\").statement\n",
    "autoridades = pd.read_sql_query(sql=autoridades_select, con=db.engine)\n",
    "autoridades.head(4)"
   ],
   "outputs": [],
   "metadata": {}
  },
  {
   "cell_type": "code",
   "execution_count": null,
   "source": [
    "# Constantes\n",
    "DESDE = datetime(year=2021, month=8, day=1)\n",
    "HASTA = datetime(year=2021, month=8, day=31)\n",
    "\n",
    "# Sentencias\n",
    "sentencias_select = db.session.query(Sentencia.id, Autoridad.clave, Sentencia.archivo, Sentencia.creado).\\\n",
    "    join(Autoridad).\\\n",
    "    filter(Sentencia.autoridad_id.in_(autoridades.id)).\\\n",
    "    filter(Sentencia.creado >= DESDE).\\\n",
    "    filter(Sentencia.creado <= HASTA).\\\n",
    "    filter(Sentencia.estatus == \"A\").statement\n",
    "sentencias = pd.read_sql_query(sql=sentencias_select, con=db.engine)\n",
    "sentencias.head()"
   ],
   "outputs": [],
   "metadata": {}
  },
  {
   "cell_type": "code",
   "execution_count": null,
   "source": [
    "# Total\n",
    "len(sentencias)"
   ],
   "outputs": [],
   "metadata": {}
  },
  {
   "cell_type": "code",
   "execution_count": null,
   "source": [
    "# Contar las sentencias entregadas por juzgado\n",
    "sentencias.clave.value_counts()"
   ],
   "outputs": [],
   "metadata": {}
  },
  {
   "cell_type": "code",
   "execution_count": null,
   "source": [
    "# Al juntar las sentencias por dia van a faltar los que no tengan\n",
    "incompletos = sentencias.groupby(sentencias['creado'].dt.date).size().reset_index(name='cantidad')\n",
    "incompletos.set_index(pd.DatetimeIndex(incompletos.creado), inplace=True)\n",
    "#incompletos.head()\n",
    "\n",
    "# Completar la serie de dias\n",
    "diarios = incompletos.resample(\"D\").asfreq(0)\n",
    "diarios.creado = diarios.index.values\n",
    "#diarios.head()\n",
    "\n",
    "# Graficar las sentencias por dia\n",
    "plt.bar(diarios.creado, diarios.cantidad)\n",
    "plt.xticks(list(diarios.creado), list(diarios.creado), rotation='vertical')\n",
    "plt.show()"
   ],
   "outputs": [],
   "metadata": {}
  }
 ],
 "metadata": {
  "orig_nbformat": 4,
  "language_info": {
   "name": "python",
   "version": "3.9.6",
   "mimetype": "text/x-python",
   "codemirror_mode": {
    "name": "ipython",
    "version": 3
   },
   "pygments_lexer": "ipython3",
   "nbconvert_exporter": "python",
   "file_extension": ".py"
  },
  "kernelspec": {
   "name": "python3",
   "display_name": "Python 3.9.6 64-bit ('venv': venv)"
  },
  "interpreter": {
   "hash": "3911d25efcfeafda209469a362f1e5e9c2b6cb415d672c3158489448101c69f1"
  }
 },
 "nbformat": 4,
 "nbformat_minor": 2
}