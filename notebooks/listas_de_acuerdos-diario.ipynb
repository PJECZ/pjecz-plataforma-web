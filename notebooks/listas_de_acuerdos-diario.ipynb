{
 "cells": [
  {
   "cell_type": "markdown",
   "source": [
    "# Listas de Acuerdos - Diario\n",
    "\n",
    "Elaborar mensaje para enviar vía correo electrónico cada día."
   ],
   "metadata": {}
  },
  {
   "cell_type": "code",
   "execution_count": null,
   "source": [
    "from datetime import date\n",
    "\n",
    "# Pandas\n",
    "import pandas as pd\n",
    "\n",
    "# SQLAlchemy\n",
    "from plataforma_web.app import create_app\n",
    "from plataforma_web.extensions import db\n",
    "app = create_app()\n",
    "db.app = app\n",
    "\n",
    "# Plataforma Web\n",
    "from plataforma_web.blueprints.distritos.models import Distrito\n",
    "from plataforma_web.blueprints.autoridades.models import Autoridad\n",
    "from plataforma_web.blueprints.listas_de_acuerdos.models import ListaDeAcuerdo"
   ],
   "outputs": [],
   "metadata": {}
  },
  {
   "cell_type": "code",
   "execution_count": null,
   "source": [
    "# Distritos\n",
    "distritos_select = db.session.query(Distrito.id, Distrito.nombre).\\\n",
    "    filter(Distrito.es_distrito_judicial == True).\\\n",
    "    filter(Distrito.estatus == \"A\").statement\n",
    "distritos = pd.read_sql_query(sql=distritos_select, con=db.engine)\n",
    "for index, row in distritos.iterrows():\n",
    "    print(row['id'], row['nombre'])"
   ],
   "outputs": [],
   "metadata": {}
  },
  {
   "cell_type": "code",
   "execution_count": null,
   "source": [
    "# Distrito Judicial\n",
    "distrito = Distrito.query.get(6)  # 6: Saltillo, 8: Torreon, 14: Salas\n",
    "\n",
    "# Juzgados\n",
    "autoridades_select = db.session.query(Autoridad.id, Autoridad.clave, Autoridad.descripcion_corta).\\\n",
    "    filter(Autoridad.distrito_id == distrito.id).\\\n",
    "    filter(Autoridad.es_jurisdiccional == True).\\\n",
    "    filter(Autoridad.es_notaria == False).\\\n",
    "    filter(Autoridad.estatus == \"A\").\\\n",
    "    order_by(Autoridad.clave).statement\n",
    "autoridades = pd.read_sql_query(sql=autoridades_select, con=db.engine)\n",
    "autoridades"
   ],
   "outputs": [],
   "metadata": {}
  },
  {
   "cell_type": "code",
   "execution_count": null,
   "source": [
    "# Fecha\n",
    "fecha = date(year=2021, month=9, day=2)\n",
    "\n",
    "# Listas de acuerdos de esa fecha\n",
    "listas_de_acuerdos_select = db.session.query(Autoridad.clave, ListaDeAcuerdo.archivo, ListaDeAcuerdo.creado).\\\n",
    "    join(Autoridad).\\\n",
    "    filter(ListaDeAcuerdo.autoridad_id.in_(autoridades.id)).\\\n",
    "    filter(ListaDeAcuerdo.fecha == fecha).\\\n",
    "    filter(ListaDeAcuerdo.estatus == \"A\").\\\n",
    "    order_by(ListaDeAcuerdo.creado).statement\n",
    "listas_de_acuerdos = pd.read_sql_query(sql=listas_de_acuerdos_select, con=db.engine)\n",
    "listas_de_acuerdos.columns = ['clave2', 'archivo', 'creado']\n",
    "\n",
    "# Reporte diario\n",
    "diario = pd.merge(autoridades, listas_de_acuerdos, left_on='clave', right_on='clave2', how='left').drop('clave2', axis=1)\n",
    "diario"
   ],
   "outputs": [],
   "metadata": {}
  }
 ],
 "metadata": {
  "orig_nbformat": 4,
  "language_info": {
   "name": "python",
   "version": "3.9.6",
   "mimetype": "text/x-python",
   "codemirror_mode": {
    "name": "ipython",
    "version": 3
   },
   "pygments_lexer": "ipython3",
   "nbconvert_exporter": "python",
   "file_extension": ".py"
  },
  "kernelspec": {
   "name": "python3",
   "display_name": "Python 3.9.6 64-bit ('venv')"
  },
  "interpreter": {
   "hash": "3911d25efcfeafda209469a362f1e5e9c2b6cb415d672c3158489448101c69f1"
  }
 },
 "nbformat": 4,
 "nbformat_minor": 2
}