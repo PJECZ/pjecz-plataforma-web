{
 "metadata": {
  "language_info": {
   "codemirror_mode": {
    "name": "ipython",
    "version": 3
   },
   "file_extension": ".py",
   "mimetype": "text/x-python",
   "name": "python",
   "nbconvert_exporter": "python",
   "pygments_lexer": "ipython3",
   "version": "3.9.6"
  },
  "orig_nbformat": 4,
  "kernelspec": {
   "name": "python3",
   "display_name": "Python 3.9.6 64-bit ('venv')"
  },
  "interpreter": {
   "hash": "3911d25efcfeafda209469a362f1e5e9c2b6cb415d672c3158489448101c69f1"
  }
 },
 "nbformat": 4,
 "nbformat_minor": 2,
 "cells": [
  {
   "source": [
    "# Reportes Gráficas\n",
    "\n",
    "Para que este _notebook_ funcione en el entorno virtual Python necesita:\n",
    "\n",
    "1. Configurer la variable de entorno PYTHONPATH con la ruta a la base de Plataforma Web.\n",
    "2. Instalar pip install ipykernel"
   ],
   "cell_type": "markdown",
   "metadata": {}
  },
  {
   "cell_type": "code",
   "execution_count": null,
   "metadata": {},
   "outputs": [],
   "source": [
    "# Revisar la variable de entorno PYTHONPATH\n",
    "import os\n",
    "print(os.environ['PYTHONPATH'])"
   ]
  },
  {
   "cell_type": "code",
   "execution_count": null,
   "metadata": {},
   "outputs": [],
   "source": [
    "# Importar paquetes\n",
    "import json"
   ]
  },
  {
   "cell_type": "code",
   "execution_count": null,
   "metadata": {},
   "outputs": [],
   "source": [
    "# Importar Plataforma Web\n",
    "from plataforma_web.app import create_app\n",
    "from plataforma_web.extensions import db\n",
    "from plataforma_web.blueprints.rep_graficas.models import RepGrafica\n",
    "from plataforma_web.blueprints.rep_reportes.models import RepReporte\n",
    "from plataforma_web.blueprints.rep_resultados.models import RepResultado\n",
    "app = create_app()\n",
    "db.app = app"
   ]
  },
  {
   "cell_type": "code",
   "execution_count": null,
   "metadata": {},
   "outputs": [],
   "source": [
    "# Gráfica\n",
    "grafica = db.session.query(RepGrafica).get(1)\n",
    "print(repr(grafica))"
   ]
  },
  {
   "cell_type": "code",
   "execution_count": null,
   "metadata": {},
   "outputs": [],
   "source": [
    "# Resultados\n",
    "datos = []\n",
    "resultados = db.session.query(RepReporte, RepResultado).join(RepReporte).filter(RepReporte.rep_grafica == grafica).all()\n",
    "for reporte, resultado in resultados:\n",
    "    datos.append({\"fecha\": reporte.inicio.strftime(\"%Y-%m-%d\"), \"modulo\": resultado.modulo.nombre, \"cantidad\": resultado.cantidad})\n",
    "print(json.dumps(datos))"
   ]
  }
 ]
}