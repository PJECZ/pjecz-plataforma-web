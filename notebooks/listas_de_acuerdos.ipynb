{
 "cells": [
  {
   "cell_type": "markdown",
   "source": [
    "# Listas de Acuerdos\n",
    "\n",
    "Reporte de Listas de Acuerdos."
   ],
   "metadata": {}
  },
  {
   "cell_type": "code",
   "execution_count": null,
   "source": [
    "from datetime import date\n",
    "\n",
    "# Pandas, matplotlib, seaborn\n",
    "import pandas as pd\n",
    "from matplotlib import pyplot as plt\n",
    "import seaborn as sns\n",
    "%matplotlib inline\n",
    "import warnings\n",
    "warnings.filterwarnings('ignore')\n",
    "\n",
    "# SQLAlchemy\n",
    "from plataforma_web.app import create_app\n",
    "from plataforma_web.extensions import db\n",
    "app = create_app()\n",
    "db.app = app\n",
    "\n",
    "# Plataforma Web\n",
    "from plataforma_web.blueprints.distritos.models import Distrito\n",
    "from plataforma_web.blueprints.autoridades.models import Autoridad\n",
    "from plataforma_web.blueprints.listas_de_acuerdos.models import ListaDeAcuerdo"
   ],
   "outputs": [],
   "metadata": {}
  },
  {
   "cell_type": "code",
   "execution_count": null,
   "source": [
    "# Distritos Judiciales\n",
    "distritos_select = db.session.query(Distrito.id, Distrito.nombre).\\\n",
    "    filter(Distrito.es_distrito_judicial == True).\\\n",
    "    filter(Distrito.estatus == \"A\").statement\n",
    "distritos = pd.read_sql_query(sql=distritos_select, con=db.engine)\n",
    "distritos.head(8)"
   ],
   "outputs": [],
   "metadata": {}
  },
  {
   "cell_type": "code",
   "execution_count": null,
   "source": [
    "# Distrito Judicial a estudiar\n",
    "distrito = Distrito.query.get(6)\n",
    "print(distrito.id, distrito.nombre)"
   ],
   "outputs": [],
   "metadata": {}
  },
  {
   "cell_type": "code",
   "execution_count": null,
   "source": [
    "# Juzgados\n",
    "autoridades_select = db.session.query(Autoridad.id, Autoridad.clave, Autoridad.descripcion).\\\n",
    "    filter(Autoridad.distrito_id == distrito.id).\\\n",
    "    filter(Autoridad.es_jurisdiccional == True).\\\n",
    "    filter(Autoridad.es_notaria == False).\\\n",
    "    filter(Autoridad.estatus == \"A\").statement\n",
    "autoridades = pd.read_sql_query(sql=autoridades_select, con=db.engine)\n",
    "autoridades.head(4)"
   ],
   "outputs": [],
   "metadata": {}
  },
  {
   "cell_type": "code",
   "execution_count": null,
   "source": [
    "# Constantes\n",
    "DESDE = date(year=2021, month=8, day=1)\n",
    "HASTA = date(year=2021, month=8, day=31)\n",
    "\n",
    "# Listas de Acuerdos\n",
    "listas_de_acuerdos_select = db.session.query(ListaDeAcuerdo.id, Autoridad.clave, ListaDeAcuerdo.fecha, ListaDeAcuerdo.archivo, ListaDeAcuerdo.creado).\\\n",
    "    join(Autoridad).\\\n",
    "    filter(ListaDeAcuerdo.autoridad_id.in_(autoridades.id)).\\\n",
    "    filter(ListaDeAcuerdo.fecha >= DESDE).\\\n",
    "    filter(ListaDeAcuerdo.fecha <= HASTA).\\\n",
    "    filter(ListaDeAcuerdo.estatus == \"A\").statement\n",
    "listas_de_acuerdos = pd.read_sql_query(sql=listas_de_acuerdos_select, con=db.engine)\n",
    "\n",
    "# Convertir fecha a datetime\n",
    "listas_de_acuerdos['fecha'] = pd.to_datetime(listas_de_acuerdos['fecha'])\n",
    "listas_de_acuerdos.info()"
   ],
   "outputs": [],
   "metadata": {}
  },
  {
   "cell_type": "code",
   "execution_count": null,
   "source": [
    "# Contar listas de acuerdos entregadas por juzgado\n",
    "listas_de_acuerdos.clave.value_counts()"
   ],
   "outputs": [],
   "metadata": {}
  },
  {
   "cell_type": "code",
   "execution_count": null,
   "source": [
    "# Intento por dia\n",
    "#entrega = listas_de_acuerdos.groupby(listas_de_acuerdos['fecha']).size().reset_index(name='cantidad')\n",
    "#entrega.set_index(pd.DatetimeIndex(entrega.fecha), inplace=True)\n",
    "#entrega = entrega.resample('D').mean()\n",
    "#entrega.head(12)"
   ],
   "outputs": [],
   "metadata": {}
  }
 ],
 "metadata": {
  "orig_nbformat": 4,
  "language_info": {
   "name": "python",
   "version": "3.9.6",
   "mimetype": "text/x-python",
   "codemirror_mode": {
    "name": "ipython",
    "version": 3
   },
   "pygments_lexer": "ipython3",
   "nbconvert_exporter": "python",
   "file_extension": ".py"
  },
  "kernelspec": {
   "name": "python3",
   "display_name": "Python 3.9.6 64-bit ('venv')"
  },
  "interpreter": {
   "hash": "3911d25efcfeafda209469a362f1e5e9c2b6cb415d672c3158489448101c69f1"
  }
 },
 "nbformat": 4,
 "nbformat_minor": 2
}