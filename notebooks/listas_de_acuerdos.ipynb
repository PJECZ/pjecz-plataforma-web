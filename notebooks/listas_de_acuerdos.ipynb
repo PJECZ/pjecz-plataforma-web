{
 "cells": [
  {
   "cell_type": "markdown",
   "source": [
    "# Listas de Acuerdos\n",
    "\n",
    "Reporte de Listas de Acuerdos."
   ],
   "metadata": {}
  },
  {
   "cell_type": "code",
   "execution_count": 1,
   "source": [
    "from datetime import date\n",
    "\n",
    "# Pandas, matplotlib, seaborn\n",
    "import pandas as pd\n",
    "from matplotlib import pyplot as plt\n",
    "import seaborn as sns\n",
    "%matplotlib inline\n",
    "import warnings\n",
    "warnings.filterwarnings('ignore')\n",
    "\n",
    "# SQLAlchemy\n",
    "from plataforma_web.app import create_app\n",
    "from plataforma_web.extensions import db\n",
    "app = create_app()\n",
    "db.app = app\n",
    "\n",
    "# Plataforma Web\n",
    "from plataforma_web.blueprints.distritos.models import Distrito\n",
    "from plataforma_web.blueprints.autoridades.models import Autoridad\n",
    "from plataforma_web.blueprints.listas_de_acuerdos.models import ListaDeAcuerdo"
   ],
   "outputs": [],
   "metadata": {}
  },
  {
   "cell_type": "code",
   "execution_count": 2,
   "source": [
    "# Distritos Judiciales\n",
    "distritos_select = db.session.query(Distrito.id, Distrito.nombre).\\\n",
    "    filter(Distrito.es_distrito_judicial == True).\\\n",
    "    filter(Distrito.estatus == \"A\").statement\n",
    "distritos = pd.read_sql_query(sql=distritos_select, con=db.engine)\n",
    "distritos.head(8)"
   ],
   "outputs": [
    {
     "output_type": "execute_result",
     "data": {
      "text/html": [
       "<div>\n",
       "<style scoped>\n",
       "    .dataframe tbody tr th:only-of-type {\n",
       "        vertical-align: middle;\n",
       "    }\n",
       "\n",
       "    .dataframe tbody tr th {\n",
       "        vertical-align: top;\n",
       "    }\n",
       "\n",
       "    .dataframe thead th {\n",
       "        text-align: right;\n",
       "    }\n",
       "</style>\n",
       "<table border=\"1\" class=\"dataframe\">\n",
       "  <thead>\n",
       "    <tr style=\"text-align: right;\">\n",
       "      <th></th>\n",
       "      <th>id</th>\n",
       "      <th>nombre</th>\n",
       "    </tr>\n",
       "  </thead>\n",
       "  <tbody>\n",
       "    <tr>\n",
       "      <th>0</th>\n",
       "      <td>1</td>\n",
       "      <td>Distrito Judicial de Acuña</td>\n",
       "    </tr>\n",
       "    <tr>\n",
       "      <th>1</th>\n",
       "      <td>2</td>\n",
       "      <td>Distrito Judicial de Monclova</td>\n",
       "    </tr>\n",
       "    <tr>\n",
       "      <th>2</th>\n",
       "      <td>3</td>\n",
       "      <td>Distrito Judicial de Parras de la Fuente</td>\n",
       "    </tr>\n",
       "    <tr>\n",
       "      <th>3</th>\n",
       "      <td>4</td>\n",
       "      <td>Distrito Judicial de Río Grande (Piedras Negras)</td>\n",
       "    </tr>\n",
       "    <tr>\n",
       "      <th>4</th>\n",
       "      <td>5</td>\n",
       "      <td>Distrito Judicial de Sabinas</td>\n",
       "    </tr>\n",
       "    <tr>\n",
       "      <th>5</th>\n",
       "      <td>6</td>\n",
       "      <td>Distrito Judicial de Saltillo</td>\n",
       "    </tr>\n",
       "    <tr>\n",
       "      <th>6</th>\n",
       "      <td>7</td>\n",
       "      <td>Distrito Judicial de San Pedro de las Colonias</td>\n",
       "    </tr>\n",
       "    <tr>\n",
       "      <th>7</th>\n",
       "      <td>8</td>\n",
       "      <td>Distrito Judicial de Torreón</td>\n",
       "    </tr>\n",
       "  </tbody>\n",
       "</table>\n",
       "</div>"
      ],
      "text/plain": [
       "   id                                            nombre\n",
       "0   1                        Distrito Judicial de Acuña\n",
       "1   2                     Distrito Judicial de Monclova\n",
       "2   3          Distrito Judicial de Parras de la Fuente\n",
       "3   4  Distrito Judicial de Río Grande (Piedras Negras)\n",
       "4   5                      Distrito Judicial de Sabinas\n",
       "5   6                     Distrito Judicial de Saltillo\n",
       "6   7    Distrito Judicial de San Pedro de las Colonias\n",
       "7   8                      Distrito Judicial de Torreón"
      ]
     },
     "metadata": {},
     "execution_count": 2
    }
   ],
   "metadata": {}
  },
  {
   "cell_type": "code",
   "execution_count": null,
   "source": [
    "# Distrito Judicial a estudiar\n",
    "distrito = Distrito.query.get(6)  # 6: Saltillo\n",
    "print(distrito.id, distrito.nombre)"
   ],
   "outputs": [],
   "metadata": {}
  },
  {
   "cell_type": "code",
   "execution_count": null,
   "source": [
    "# Juzgados\n",
    "autoridades_select = db.session.query(Autoridad.id, Autoridad.clave, Autoridad.descripcion).\\\n",
    "    filter(Autoridad.distrito_id == distrito.id).\\\n",
    "    filter(Autoridad.es_jurisdiccional == True).\\\n",
    "    filter(Autoridad.es_notaria == False).\\\n",
    "    filter(Autoridad.estatus == \"A\").statement\n",
    "autoridades = pd.read_sql_query(sql=autoridades_select, con=db.engine)\n",
    "autoridades.head(4)"
   ],
   "outputs": [],
   "metadata": {}
  },
  {
   "cell_type": "code",
   "execution_count": null,
   "source": [
    "# Constantes\n",
    "DESDE = date(year=2021, month=8, day=1)\n",
    "HASTA = date(year=2021, month=8, day=31)\n",
    "\n",
    "# Listas de Acuerdos\n",
    "listas_de_acuerdos_select = db.session.query(ListaDeAcuerdo.id, Autoridad.clave, ListaDeAcuerdo.fecha, ListaDeAcuerdo.archivo, ListaDeAcuerdo.creado).\\\n",
    "    join(Autoridad).\\\n",
    "    filter(ListaDeAcuerdo.autoridad_id.in_(autoridades.id)).\\\n",
    "    filter(ListaDeAcuerdo.fecha >= DESDE).\\\n",
    "    filter(ListaDeAcuerdo.fecha <= HASTA).\\\n",
    "    filter(ListaDeAcuerdo.estatus == \"A\").statement\n",
    "listas_de_acuerdos = pd.read_sql_query(sql=listas_de_acuerdos_select, con=db.engine)\n",
    "\n",
    "# Convertir fecha a datetime\n",
    "listas_de_acuerdos['fecha'] = pd.to_datetime(listas_de_acuerdos['fecha'])\n",
    "listas_de_acuerdos.info()"
   ],
   "outputs": [],
   "metadata": {}
  },
  {
   "cell_type": "code",
   "execution_count": null,
   "source": [
    "# Contar listas de acuerdos entregadas por juzgado\n",
    "listas_de_acuerdos.clave.value_counts()"
   ],
   "outputs": [],
   "metadata": {}
  },
  {
   "cell_type": "code",
   "execution_count": null,
   "source": [
    "# Elaborar matriz juzgados/fechas"
   ],
   "outputs": [],
   "metadata": {}
  }
 ],
 "metadata": {
  "orig_nbformat": 4,
  "language_info": {
   "name": "python",
   "version": "3.9.6",
   "mimetype": "text/x-python",
   "codemirror_mode": {
    "name": "ipython",
    "version": 3
   },
   "pygments_lexer": "ipython3",
   "nbconvert_exporter": "python",
   "file_extension": ".py"
  },
  "kernelspec": {
   "name": "python3",
   "display_name": "Python 3.9.6 64-bit ('venv')"
  },
  "interpreter": {
   "hash": "3911d25efcfeafda209469a362f1e5e9c2b6cb415d672c3158489448101c69f1"
  }
 },
 "nbformat": 4,
 "nbformat_minor": 2
}