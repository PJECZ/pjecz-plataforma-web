{
 "cells": [
  {
   "cell_type": "markdown",
   "id": "38bd40ac",
   "metadata": {},
   "source": [
    "# Soportes Tickets"
   ]
  },
  {
   "cell_type": "code",
   "execution_count": null,
   "id": "150db5a5",
   "metadata": {},
   "outputs": [],
   "source": [
    "# Paquetes\n",
    "from datetime import datetime\n",
    "import os\n",
    "from dotenv import load_dotenv\n",
    "import pandas as pd\n",
    "from plataforma_web.app import create_app\n",
    "from plataforma_web.extensions import db\n",
    "from plataforma_web.blueprints.oficinas.models import Oficina\n",
    "from plataforma_web.blueprints.soportes_categorias.models import SoporteCategoria\n",
    "from plataforma_web.blueprints.soportes_tickets.models import SoporteTicket\n",
    "from plataforma_web.blueprints.usuarios.models import Usuario"
   ]
  },
  {
   "cell_type": "code",
   "execution_count": null,
   "id": "cd71ed65",
   "metadata": {},
   "outputs": [],
   "source": [
    "# Inicializar\n",
    "load_dotenv()  # Take environment variables from .env\n",
    "app = create_app()\n",
    "db.app = app"
   ]
  },
  {
   "cell_type": "code",
   "execution_count": null,
   "id": "2b972d59",
   "metadata": {},
   "outputs": [],
   "source": [
    "# Rango de tiempos\n",
    "creado_desde = datetime(year=2022,month=2,day=14,hour=0,minute=0,second=0)\n",
    "creado_hasta = datetime(year=2022,month=2,day=18,hour=23,minute=59,second=59)"
   ]
  },
  {
   "cell_type": "code",
   "execution_count": null,
   "id": "eb6602e1",
   "metadata": {},
   "outputs": [],
   "source": [
    "# Comenzar consulta de tickets\n",
    "soportes_tickets = SoporteTicket.query.\\\n",
    "    filter(SoporteTicket.creado >= creado_desde).\\\n",
    "    filter(SoporteTicket.creado <= creado_hasta).\\\n",
    "    filter(SoporteTicket.estado == \"CERRADO\").\\\n",
    "    filter(SoporteTicket.estatus == \"A\")"
   ]
  },
  {
   "cell_type": "code",
   "execution_count": null,
   "id": "e8165f0d",
   "metadata": {},
   "outputs": [],
   "source": [
    "# Total de tickets por oficina\n",
    "for oficina in Oficina.query.filter_by(estatus=\"A\").all():\n",
    "    soportes_tickets_por_oficina = soportes_tickets.join(Usuario).filter(Usuario.oficina_id == oficina.id)\n",
    "    if soportes_tickets_por_oficina.count() > 0:\n",
    "        print(\"En\", oficina.clave, \"hay\", soportes_tickets_por_oficina.count(), \"tickets CERRADOS\")"
   ]
  },
  {
   "cell_type": "code",
   "execution_count": null,
   "id": "fff79d84",
   "metadata": {},
   "outputs": [],
   "source": [
    "# Total de tickets en una categoria\n",
    "categoria = SoporteCategoria.query.get(68)  # Firma Electronica (68)\n",
    "tickets_en_una_categoria = soportes_tickets.filter(SoporteTicket.soporte_categoria == categoria)\n",
    "print(\"Hay\", tickets_en_una_categoria.count(), \"tickets CERRADOS en la categoria\", categoria.nombre)"
   ]
  },
  {
   "cell_type": "code",
   "execution_count": null,
   "id": "a46a2219",
   "metadata": {},
   "outputs": [],
   "source": [
    "# Total de tickets en la categoria por oficina\n",
    "for oficina in Oficina.query.filter_by(estatus=\"A\").all():\n",
    "    tickets_por_oficina = tickets_en_una_categoria.join(Usuario).filter(Usuario.oficina_id == oficina.id)\n",
    "    if tickets_por_oficina.count() > 0:\n",
    "        print(\"En\", oficina.clave, \"hay\", tickets_por_oficina.count(), \"tickets CERRADOS en la categoria\", soporte_categoria.nombre)"
   ]
  },
  {
   "cell_type": "code",
   "execution_count": null,
   "id": "53d4fed6",
   "metadata": {},
   "outputs": [],
   "source": [
    "# Elaborar un dataframe con las categorias en renglones y las oficinas en columnas\n",
    "data = {}\n",
    "categorias = SoporteCategoria.query.filter_by(estatus=\"A\").order_by(SoporteCategoria.nombre).all()\n",
    "tickets = SoporteTicket.query.\\\n",
    "    filter(SoporteTicket.creado >= creado_desde).\\\n",
    "    filter(SoporteTicket.creado <= creado_hasta).\\\n",
    "    filter(SoporteTicket.estado == \"CERRADO\").\\\n",
    "    filter(SoporteTicket.estatus == \"A\")\n",
    "for oficina in Oficina.query.filter_by(estatus=\"A\").order_by(Oficina.clave.asc()).all():\n",
    "    tickets_por_oficina = tickets.join(Usuario).filter(Usuario.oficina_id == oficina.id)\n",
    "    renglon = {}\n",
    "    for categoria in categorias:\n",
    "        tickets_por_categoria = tickets_por_oficina.filter(SoporteTicket.soporte_categoria == categoria)\n",
    "        renglon[categoria.nombre] = tickets_por_categoria.count()\n",
    "    data[oficina.clave] = renglon\n",
    "df = pd.DataFrame(data)"
   ]
  },
  {
   "cell_type": "code",
   "execution_count": null,
   "id": "04521a7b",
   "metadata": {},
   "outputs": [],
   "source": [
    "df_limpio = df.loc[:, (df.sum(axis=0) > 0)]\n",
    "df_limpio"
   ]
  },
  {
   "cell_type": "code",
   "execution_count": null,
   "id": "8912db1e",
   "metadata": {},
   "outputs": [],
   "source": [
    "# Guardar como archivo CSV\n",
    "df_limpio.to_csv(\"soportes_tickets_cerrados_por_categoria.csv\", index=True, encoding=\"utf-8\")"
   ]
  }
 ],
 "metadata": {
  "kernelspec": {
   "display_name": "Python 3 (ipykernel)",
   "language": "python",
   "name": "python3"
  },
  "language_info": {
   "codemirror_mode": {
    "name": "ipython",
    "version": 3
   },
   "file_extension": ".py",
   "mimetype": "text/x-python",
   "name": "python",
   "nbconvert_exporter": "python",
   "pygments_lexer": "ipython3",
   "version": "3.10.2"
  }
 },
 "nbformat": 4,
 "nbformat_minor": 5
}
