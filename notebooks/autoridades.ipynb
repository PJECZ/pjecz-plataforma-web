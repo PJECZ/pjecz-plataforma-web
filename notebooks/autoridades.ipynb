{
 "cells": [
  {
   "cell_type": "markdown",
   "source": [
    "# Autoridades\n",
    "\n",
    "Para que este _notebook_ funcione en el entorno virtual Python necesita:\n",
    "\n",
    "1. Configurer la variable de entorno PYTHONPATH con la ruta a la base de Plataforma Web.\n",
    "2. Instalar pip install ipykernel"
   ],
   "metadata": {}
  },
  {
   "cell_type": "code",
   "execution_count": null,
   "source": [
    "# Revisar la variable de entorno PYTHONPATH\n",
    "import os\n",
    "print(os.environ['PYTHONPATH'])"
   ],
   "outputs": [],
   "metadata": {}
  },
  {
   "cell_type": "code",
   "execution_count": null,
   "source": [
    "from plataforma_web.app import create_app\n",
    "from plataforma_web.extensions import db\n",
    "\n",
    "# SQLAlchemy\n",
    "app = create_app()\n",
    "db.app = app"
   ],
   "outputs": [],
   "metadata": {}
  },
  {
   "cell_type": "code",
   "execution_count": null,
   "source": [
    "from plataforma_web.blueprints.autoridades.models import Autoridad\n",
    "\n",
    "# Juzgado Segundo de Primera Instancia en Materia Civil, Monclova\n",
    "autoridad = Autoridad.query.get(8)\n",
    "print(autoridad.distrito.nombre, autoridad.descripcion)"
   ],
   "outputs": [],
   "metadata": {}
  },
  {
   "cell_type": "code",
   "execution_count": null,
   "source": [
    "from plataforma_web.blueprints.listas_de_acuerdos.models import ListaDeAcuerdo\n",
    "\n",
    "# Listas de Acuerdos\n",
    "listas_de_acuerdos = ListaDeAcuerdo.query.\\\n",
    "    filter(ListaDeAcuerdo.autoridad == autoridad).\\\n",
    "    filter_by(estatus=\"A\").\\\n",
    "    order_by(ListaDeAcuerdo.fecha.desc()).limit(4).all()\n",
    "for lista_de_acuerdo in listas_de_acuerdos:\n",
    "    print(lista_de_acuerdo.fecha, lista_de_acuerdo.archivo)"
   ],
   "outputs": [],
   "metadata": {}
  },
  {
   "cell_type": "code",
   "execution_count": null,
   "source": [
    "from plataforma_web.blueprints.edictos.models import Edicto\n",
    "\n",
    "# Edictos\n",
    "edictos = Edicto.query.filter(Edicto.autoridad == autoridad).filter_by(estatus=\"A\").order_by(Edicto.fecha.desc()).limit(4).all()\n",
    "for edicto in edictos:\n",
    "    print(edicto.fecha, edicto.expediente, edicto.descripcion)"
   ],
   "outputs": [],
   "metadata": {}
  },
  {
   "cell_type": "code",
   "execution_count": null,
   "source": [
    "from plataforma_web.blueprints.sentencias.models import Sentencia\n",
    "\n",
    "# V.P. de Sentencias\n",
    "sentencias = Sentencia.query.filter(Sentencia.autoridad == autoridad).filter_by(estatus=\"A\").order_by(Sentencia.fecha.desc()).limit(4).all()\n",
    "for sentencia in sentencias:\n",
    "    print(sentencia.fecha, sentencia.sentencia, sentencia.archivo)"
   ],
   "outputs": [],
   "metadata": {}
  },
  {
   "cell_type": "code",
   "execution_count": null,
   "source": [
    "from datetime import datetime, date, time, timedelta\n",
    "from plataforma_web.blueprints.audiencias.models import Audiencia\n",
    "\n",
    "# Agenda de audiencias de hoy\n",
    "LIMITE_DIAS = 1\n",
    "hoy_fecha = date.today()\n",
    "hoy = datetime(year=hoy_fecha.year, month=hoy_fecha.month, day=hoy_fecha.day)\n",
    "desde = hoy + timedelta(days=-LIMITE_DIAS)\n",
    "hasta = hoy + timedelta(days=LIMITE_DIAS)\n",
    "audiencias = Audiencia.query.filter(Audiencia.autoridad == autoridad)\\\n",
    "    .filter(Audiencia.tiempo >= desde).filter(Audiencia.tiempo <= hasta).filter_by(estatus=\"A\")\\\n",
    "    .order_by(Audiencia.tiempo).all()\n",
    "for audiencia in audiencias:\n",
    "    print(audiencia.tiempo, audiencia.tipo_audiencia, audiencia.actores, audiencia.demandados)"
   ],
   "outputs": [],
   "metadata": {}
  }
 ],
 "metadata": {
  "orig_nbformat": 4,
  "language_info": {
   "name": "python",
   "version": "3.9.6",
   "mimetype": "text/x-python",
   "codemirror_mode": {
    "name": "ipython",
    "version": 3
   },
   "pygments_lexer": "ipython3",
   "nbconvert_exporter": "python",
   "file_extension": ".py"
  },
  "kernelspec": {
   "name": "python3",
   "display_name": "Python 3.9.6 64-bit ('venv')"
  },
  "interpreter": {
   "hash": "3911d25efcfeafda209469a362f1e5e9c2b6cb415d672c3158489448101c69f1"
  }
 },
 "nbformat": 4,
 "nbformat_minor": 2
}