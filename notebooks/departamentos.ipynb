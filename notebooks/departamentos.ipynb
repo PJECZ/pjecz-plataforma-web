{
 "metadata": {
  "language_info": {
   "codemirror_mode": {
    "name": "ipython",
    "version": 3
   },
   "file_extension": ".py",
   "mimetype": "text/x-python",
   "name": "python",
   "nbconvert_exporter": "python",
   "pygments_lexer": "ipython3",
   "version": "3.9.6"
  },
  "orig_nbformat": 4,
  "kernelspec": {
   "name": "python3",
   "display_name": "Python 3.9.6 64-bit ('venv')"
  },
  "interpreter": {
   "hash": "3911d25efcfeafda209469a362f1e5e9c2b6cb415d672c3158489448101c69f1"
  }
 },
 "nbformat": 4,
 "nbformat_minor": 2,
 "cells": [
  {
   "cell_type": "markdown",
   "source": [
    "# Departamentos\n",
    "\n",
    "Para que este _notebook_ funcione en el entorno virtual Python necesita:\n",
    "\n",
    "1. Configurer la variable de entorno PYTHONPATH con la ruta a la base de Plataforma Web.\n",
    "2. Instalar pip install ipykernel"
   ],
   "metadata": {}
  },
  {
   "cell_type": "code",
   "execution_count": null,
   "source": [
    "from plataforma_web.app import create_app\n",
    "from plataforma_web.extensions import db\n",
    "app = create_app()\n",
    "db.app = app"
   ],
   "outputs": [],
   "metadata": {}
  },
  {
   "cell_type": "code",
   "execution_count": null,
   "source": [
    "from plataforma_web.blueprints.distritos.models import Distrito\n",
    "distritos = Distrito.query.filter_by(estatus='A').order_by(Distrito.nombre).all()\n",
    "for distrito in distritos:\n",
    "    print(distrito.nombre)"
   ],
   "outputs": [],
   "metadata": {}
  },
  {
   "cell_type": "code",
   "execution_count": null,
   "source": [],
   "outputs": [],
   "metadata": {}
  }
 ]
}